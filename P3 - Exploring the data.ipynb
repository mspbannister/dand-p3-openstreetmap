{
 "cells": [
  {
   "cell_type": "markdown",
   "metadata": {},
   "source": [
    "## Exploring data"
   ]
  },
  {
   "cell_type": "code",
   "execution_count": 1,
   "metadata": {
    "collapsed": false
   },
   "outputs": [],
   "source": [
    "import xml.etree.cElementTree as ET\n",
    "import audit_address\n",
    "\n",
    "sample = \"central_London_sample.osm\"\n",
    "\n",
    "type_keys = set()\n",
    "amenity_values = set()\n",
    "cuisine_values = set()\n",
    "shop_values = set()\n",
    "religion_values = set()\n",
    "\n",
    "with open(sample, \"rb\") as f:\n",
    "    for event, elem in ET.iterparse(f):\n",
    "        for child in elem:\n",
    "            if child.tag == 'tag':\n",
    "                if \"type\" in child.attrib['k']:\n",
    "                    type_keys.add(child.attrib['k'])\n",
    "                if 'amenity' in child.attrib['k']:\n",
    "                    amenity_values.add(child.attrib['v'])\n",
    "                if 'cuisine' in child.attrib['k']:\n",
    "                    cuisine_values.add(child.attrib['v'])\n",
    "                if 'shop' in child.attrib['k']:\n",
    "                    shop_values.add(child.attrib['v'])\n",
    "                if 'religion' in child.attrib['k']:\n",
    "                    religion_values.add(child.attrib['v'])"
   ]
  },
  {
   "cell_type": "markdown",
   "metadata": {},
   "source": [
    "**Auditing type keys**"
   ]
  },
  {
   "cell_type": "code",
   "execution_count": 2,
   "metadata": {
    "collapsed": false
   },
   "outputs": [
    {
     "data": {
      "text/plain": [
       "{'addr:type',\n",
       " 'board_type',\n",
       " 'camera:type',\n",
       " 'fence_type',\n",
       " 'fire_hydrant:type',\n",
       " 'leaf_type',\n",
       " 'map_type',\n",
       " 'post_box:type',\n",
       " 'recycling_type',\n",
       " 'surveillance:type',\n",
       " 'tracktype',\n",
       " 'type'}"
      ]
     },
     "execution_count": 2,
     "metadata": {},
     "output_type": "execute_result"
    }
   ],
   "source": [
    "type_keys"
   ]
  },
  {
   "cell_type": "markdown",
   "metadata": {},
   "source": [
    "**Auditing amenity values**"
   ]
  },
  {
   "cell_type": "code",
   "execution_count": 3,
   "metadata": {
    "collapsed": false
   },
   "outputs": [
    {
     "data": {
      "text/plain": [
       "{'arts_centre',\n",
       " 'atm',\n",
       " 'bank',\n",
       " 'bar',\n",
       " 'bench',\n",
       " 'bicycle_parking',\n",
       " 'bicycle_rental',\n",
       " 'biergarten',\n",
       " 'cafe',\n",
       " 'car_sharing',\n",
       " 'charging_station',\n",
       " 'church_hall',\n",
       " 'cinema',\n",
       " 'clinic',\n",
       " 'clock',\n",
       " 'college',\n",
       " 'community_centre',\n",
       " 'courthouse',\n",
       " 'dentist',\n",
       " 'doctors',\n",
       " 'drinking_water',\n",
       " 'embassy',\n",
       " 'fast_food',\n",
       " 'fuel',\n",
       " 'grit_bin',\n",
       " 'kindergarten',\n",
       " 'library',\n",
       " 'marketplace',\n",
       " 'motorcycle_parking',\n",
       " 'nursing_home',\n",
       " 'parking',\n",
       " 'parking_space',\n",
       " 'pharmacy',\n",
       " 'place_of_worship',\n",
       " 'police',\n",
       " 'post_box',\n",
       " 'post_office',\n",
       " 'pub',\n",
       " 'public_building',\n",
       " 'recycling',\n",
       " 'restaurant',\n",
       " 'school',\n",
       " 'social_club',\n",
       " 'social_facility',\n",
       " 'telephone',\n",
       " 'theatre',\n",
       " 'toilets',\n",
       " 'vending_machine',\n",
       " 'waste_basket'}"
      ]
     },
     "execution_count": 3,
     "metadata": {},
     "output_type": "execute_result"
    }
   ],
   "source": [
    "amenity_values"
   ]
  },
  {
   "cell_type": "markdown",
   "metadata": {},
   "source": [
    "**Auditing cuisine values**"
   ]
  },
  {
   "cell_type": "code",
   "execution_count": 4,
   "metadata": {
    "collapsed": false
   },
   "outputs": [
    {
     "data": {
      "text/plain": [
       "{'american',\n",
       " 'barbecue',\n",
       " 'brazilian',\n",
       " 'chicken',\n",
       " 'coffee',\n",
       " 'french',\n",
       " 'indian',\n",
       " 'italian',\n",
       " 'japanese',\n",
       " 'kebab',\n",
       " 'lebanese',\n",
       " 'local',\n",
       " 'malaysian',\n",
       " 'moroccan',\n",
       " 'pizza',\n",
       " 'russian',\n",
       " 'sandwich',\n",
       " 'spanish',\n",
       " 'thai',\n",
       " 'turkish',\n",
       " 'vietnamese'}"
      ]
     },
     "execution_count": 4,
     "metadata": {},
     "output_type": "execute_result"
    }
   ],
   "source": [
    "cuisine_values"
   ]
  },
  {
   "cell_type": "markdown",
   "metadata": {},
   "source": [
    "**Auditing shop type values**"
   ]
  },
  {
   "cell_type": "code",
   "execution_count": 5,
   "metadata": {
    "collapsed": false
   },
   "outputs": [
    {
     "data": {
      "text/plain": [
       "{'alcohol',\n",
       " 'antiques',\n",
       " 'art',\n",
       " 'bakery',\n",
       " 'beauty',\n",
       " 'bicycle',\n",
       " 'bookmaker',\n",
       " 'books',\n",
       " 'boutique',\n",
       " 'bullion',\n",
       " 'butcher',\n",
       " 'car_repair',\n",
       " 'carpet',\n",
       " 'cash',\n",
       " 'catalogue',\n",
       " 'charity',\n",
       " 'chemist',\n",
       " 'clothes',\n",
       " 'communication',\n",
       " 'confectionery',\n",
       " 'convenience',\n",
       " 'deli',\n",
       " 'dry_cleaning',\n",
       " 'electronics',\n",
       " 'estate_agent',\n",
       " 'fabric',\n",
       " 'florist',\n",
       " 'gift',\n",
       " 'greengrocer',\n",
       " 'hairdresser',\n",
       " 'hardware',\n",
       " 'health',\n",
       " 'health_food',\n",
       " 'houseware',\n",
       " 'jewelry',\n",
       " 'laundry',\n",
       " 'maps',\n",
       " 'market',\n",
       " 'mobile_phone',\n",
       " 'music',\n",
       " 'musical_instrument',\n",
       " 'newsagent',\n",
       " 'outdoor',\n",
       " 'perfume',\n",
       " 'pet',\n",
       " 'plumbing',\n",
       " 'shoe_repair',\n",
       " 'shoes',\n",
       " 'stationery',\n",
       " 'supermarket',\n",
       " 'taxi',\n",
       " 'toys',\n",
       " 'trade',\n",
       " 'travel_agency',\n",
       " 'vacant',\n",
       " 'wholesale',\n",
       " 'wine',\n",
       " 'yes'}"
      ]
     },
     "execution_count": 5,
     "metadata": {},
     "output_type": "execute_result"
    }
   ],
   "source": [
    "shop_values"
   ]
  },
  {
   "cell_type": "markdown",
   "metadata": {},
   "source": [
    "**Auditing religion values**"
   ]
  },
  {
   "cell_type": "code",
   "execution_count": 6,
   "metadata": {
    "collapsed": false
   },
   "outputs": [
    {
     "data": {
      "text/plain": [
       "{'christian', 'muslim'}"
      ]
     },
     "execution_count": 6,
     "metadata": {},
     "output_type": "execute_result"
    }
   ],
   "source": [
    "religion_values"
   ]
  },
  {
   "cell_type": "markdown",
   "metadata": {},
   "source": [
    "**Auditing address values**"
   ]
  },
  {
   "cell_type": "code",
   "execution_count": 7,
   "metadata": {
    "collapsed": false
   },
   "outputs": [],
   "source": [
    "street_types, post_codes = audit_address.audit(sample)"
   ]
  },
  {
   "cell_type": "code",
   "execution_count": 8,
   "metadata": {
    "collapsed": false,
    "scrolled": true
   },
   "outputs": [
    {
     "data": {
      "text/plain": [
       "defaultdict(set,\n",
       "            {'Causeway': {'Stepney Causeway'},\n",
       "             'Centre': {'Southside Shopping Centre'},\n",
       "             'Cheapside': {'Cheapside'},\n",
       "             'Eastcheap': {'Eastcheap'},\n",
       "             'Embankment': {'Victoria Embankment'},\n",
       "             'Ground': {'Upper Ground'},\n",
       "             'Kingsway': {'Kingsway'},\n",
       "             'Limeharbour': {'Limeharbour'},\n",
       "             'Mead': {'Friars Mead'},\n",
       "             'Millbank': {'Millbank'},\n",
       "             'Pleasant': {'Point Pleasant'},\n",
       "             'Polygon': {'The Polygon'},\n",
       "             'Rye': {'Peckham Rye'},\n",
       "             'Strand': {'Strand'},\n",
       "             'Wall': {'Marsh Wall'},\n",
       "             'West': {'Jupp Road West'},\n",
       "             'Whitehall': {'Whitehall'}})"
      ]
     },
     "execution_count": 8,
     "metadata": {},
     "output_type": "execute_result"
    }
   ],
   "source": [
    "street_types"
   ]
  },
  {
   "cell_type": "code",
   "execution_count": 9,
   "metadata": {
    "collapsed": false
   },
   "outputs": [
    {
     "data": {
      "text/plain": [
       "{'N1', 'N7', 'NW3', 'SE22', 'SE5', 'SW15', 'SW3 4', 'SW6 5', 'W1', 'W12'}"
      ]
     },
     "execution_count": 9,
     "metadata": {},
     "output_type": "execute_result"
    }
   ],
   "source": [
    "post_codes"
   ]
  }
 ],
 "metadata": {
  "kernelspec": {
   "display_name": "Python [conda env:DAND]",
   "language": "python",
   "name": "conda-env-DAND-py"
  },
  "language_info": {
   "codemirror_mode": {
    "name": "ipython",
    "version": 2
   },
   "file_extension": ".py",
   "mimetype": "text/x-python",
   "name": "python",
   "nbconvert_exporter": "python",
   "pygments_lexer": "ipython2",
   "version": "2.7.12"
  }
 },
 "nbformat": 4,
 "nbformat_minor": 2
}
